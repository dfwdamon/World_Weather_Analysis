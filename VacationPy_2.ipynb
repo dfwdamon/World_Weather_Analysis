{
 "cells": [
  {
   "cell_type": "code",
   "execution_count": 13,
   "id": "dd4fe43a",
   "metadata": {},
   "outputs": [],
   "source": [
    "import pandas as pd\n",
    "import gmaps\n",
    "import requests\n",
    "from config import g_key\n"
   ]
  },
  {
   "cell_type": "code",
   "execution_count": 14,
   "id": "e19bc80b",
   "metadata": {},
   "outputs": [],
   "source": [
    "# read cities.csv file\n",
    "city_data_df = pd.read_csv(\"/Users/damonphillips/Desktop/bootcamp/week_6_APIs/World_Weather_Analysis/cities.csv\")\n"
   ]
  },
  {
   "cell_type": "code",
   "execution_count": 15,
   "id": "8796cab6",
   "metadata": {},
   "outputs": [
    {
     "data": {
      "text/html": [
       "<div>\n",
       "<style scoped>\n",
       "    .dataframe tbody tr th:only-of-type {\n",
       "        vertical-align: middle;\n",
       "    }\n",
       "\n",
       "    .dataframe tbody tr th {\n",
       "        vertical-align: top;\n",
       "    }\n",
       "\n",
       "    .dataframe thead th {\n",
       "        text-align: right;\n",
       "    }\n",
       "</style>\n",
       "<table border=\"1\" class=\"dataframe\">\n",
       "  <thead>\n",
       "    <tr style=\"text-align: right;\">\n",
       "      <th></th>\n",
       "      <th>City_ID</th>\n",
       "      <th>City</th>\n",
       "      <th>Lat</th>\n",
       "      <th>Lng</th>\n",
       "      <th>Max Temp</th>\n",
       "      <th>Humidity</th>\n",
       "      <th>Cloudiness</th>\n",
       "      <th>Wind Speed</th>\n",
       "      <th>Country</th>\n",
       "      <th>Date</th>\n",
       "    </tr>\n",
       "  </thead>\n",
       "  <tbody>\n",
       "    <tr>\n",
       "      <th>0</th>\n",
       "      <td>0</td>\n",
       "      <td>Rio Gallegos</td>\n",
       "      <td>-51.6226</td>\n",
       "      <td>-69.2181</td>\n",
       "      <td>39.25</td>\n",
       "      <td>81</td>\n",
       "      <td>0</td>\n",
       "      <td>17.27</td>\n",
       "      <td>AR</td>\n",
       "      <td>2022-09-19 04:09:59</td>\n",
       "    </tr>\n",
       "    <tr>\n",
       "      <th>1</th>\n",
       "      <td>1</td>\n",
       "      <td>Yakeshi</td>\n",
       "      <td>49.2833</td>\n",
       "      <td>120.7333</td>\n",
       "      <td>46.17</td>\n",
       "      <td>16</td>\n",
       "      <td>0</td>\n",
       "      <td>17.67</td>\n",
       "      <td>CN</td>\n",
       "      <td>2022-09-19 04:09:59</td>\n",
       "    </tr>\n",
       "    <tr>\n",
       "      <th>2</th>\n",
       "      <td>2</td>\n",
       "      <td>Kodiak</td>\n",
       "      <td>57.7900</td>\n",
       "      <td>-152.4072</td>\n",
       "      <td>58.51</td>\n",
       "      <td>77</td>\n",
       "      <td>20</td>\n",
       "      <td>9.22</td>\n",
       "      <td>US</td>\n",
       "      <td>2022-09-19 04:10:00</td>\n",
       "    </tr>\n",
       "    <tr>\n",
       "      <th>3</th>\n",
       "      <td>3</td>\n",
       "      <td>Hilo</td>\n",
       "      <td>19.7297</td>\n",
       "      <td>-155.0900</td>\n",
       "      <td>79.29</td>\n",
       "      <td>93</td>\n",
       "      <td>100</td>\n",
       "      <td>4.61</td>\n",
       "      <td>US</td>\n",
       "      <td>2022-09-19 04:05:29</td>\n",
       "    </tr>\n",
       "    <tr>\n",
       "      <th>4</th>\n",
       "      <td>4</td>\n",
       "      <td>Tasiilaq</td>\n",
       "      <td>65.6145</td>\n",
       "      <td>-37.6368</td>\n",
       "      <td>46.56</td>\n",
       "      <td>98</td>\n",
       "      <td>100</td>\n",
       "      <td>4.34</td>\n",
       "      <td>GL</td>\n",
       "      <td>2022-09-19 04:10:00</td>\n",
       "    </tr>\n",
       "    <tr>\n",
       "      <th>...</th>\n",
       "      <td>...</td>\n",
       "      <td>...</td>\n",
       "      <td>...</td>\n",
       "      <td>...</td>\n",
       "      <td>...</td>\n",
       "      <td>...</td>\n",
       "      <td>...</td>\n",
       "      <td>...</td>\n",
       "      <td>...</td>\n",
       "      <td>...</td>\n",
       "    </tr>\n",
       "    <tr>\n",
       "      <th>551</th>\n",
       "      <td>551</td>\n",
       "      <td>Kapoeta</td>\n",
       "      <td>4.7717</td>\n",
       "      <td>33.5903</td>\n",
       "      <td>75.15</td>\n",
       "      <td>53</td>\n",
       "      <td>64</td>\n",
       "      <td>8.63</td>\n",
       "      <td>SS</td>\n",
       "      <td>2022-09-19 04:26:15</td>\n",
       "    </tr>\n",
       "    <tr>\n",
       "      <th>552</th>\n",
       "      <td>552</td>\n",
       "      <td>Iquitos</td>\n",
       "      <td>-3.7481</td>\n",
       "      <td>-73.2472</td>\n",
       "      <td>75.24</td>\n",
       "      <td>94</td>\n",
       "      <td>40</td>\n",
       "      <td>2.30</td>\n",
       "      <td>PE</td>\n",
       "      <td>2022-09-19 04:26:15</td>\n",
       "    </tr>\n",
       "    <tr>\n",
       "      <th>553</th>\n",
       "      <td>553</td>\n",
       "      <td>Oktyabrskoye</td>\n",
       "      <td>43.0645</td>\n",
       "      <td>44.7417</td>\n",
       "      <td>59.14</td>\n",
       "      <td>88</td>\n",
       "      <td>0</td>\n",
       "      <td>8.95</td>\n",
       "      <td>RU</td>\n",
       "      <td>2022-09-19 04:26:16</td>\n",
       "    </tr>\n",
       "    <tr>\n",
       "      <th>554</th>\n",
       "      <td>554</td>\n",
       "      <td>Komsomolets</td>\n",
       "      <td>53.7453</td>\n",
       "      <td>62.0708</td>\n",
       "      <td>65.53</td>\n",
       "      <td>47</td>\n",
       "      <td>64</td>\n",
       "      <td>9.73</td>\n",
       "      <td>KZ</td>\n",
       "      <td>2022-09-19 04:26:16</td>\n",
       "    </tr>\n",
       "    <tr>\n",
       "      <th>555</th>\n",
       "      <td>555</td>\n",
       "      <td>Leshukonskoye</td>\n",
       "      <td>64.8989</td>\n",
       "      <td>45.7622</td>\n",
       "      <td>43.86</td>\n",
       "      <td>97</td>\n",
       "      <td>69</td>\n",
       "      <td>5.06</td>\n",
       "      <td>RU</td>\n",
       "      <td>2022-09-19 04:26:16</td>\n",
       "    </tr>\n",
       "  </tbody>\n",
       "</table>\n",
       "<p>556 rows × 10 columns</p>\n",
       "</div>"
      ],
      "text/plain": [
       "     City_ID           City      Lat       Lng  Max Temp  Humidity  \\\n",
       "0          0   Rio Gallegos -51.6226  -69.2181     39.25        81   \n",
       "1          1        Yakeshi  49.2833  120.7333     46.17        16   \n",
       "2          2         Kodiak  57.7900 -152.4072     58.51        77   \n",
       "3          3           Hilo  19.7297 -155.0900     79.29        93   \n",
       "4          4       Tasiilaq  65.6145  -37.6368     46.56        98   \n",
       "..       ...            ...      ...       ...       ...       ...   \n",
       "551      551        Kapoeta   4.7717   33.5903     75.15        53   \n",
       "552      552        Iquitos  -3.7481  -73.2472     75.24        94   \n",
       "553      553   Oktyabrskoye  43.0645   44.7417     59.14        88   \n",
       "554      554    Komsomolets  53.7453   62.0708     65.53        47   \n",
       "555      555  Leshukonskoye  64.8989   45.7622     43.86        97   \n",
       "\n",
       "     Cloudiness  Wind Speed Country                 Date  \n",
       "0             0       17.27      AR  2022-09-19 04:09:59  \n",
       "1             0       17.67      CN  2022-09-19 04:09:59  \n",
       "2            20        9.22      US  2022-09-19 04:10:00  \n",
       "3           100        4.61      US  2022-09-19 04:05:29  \n",
       "4           100        4.34      GL  2022-09-19 04:10:00  \n",
       "..          ...         ...     ...                  ...  \n",
       "551          64        8.63      SS  2022-09-19 04:26:15  \n",
       "552          40        2.30      PE  2022-09-19 04:26:15  \n",
       "553           0        8.95      RU  2022-09-19 04:26:16  \n",
       "554          64        9.73      KZ  2022-09-19 04:26:16  \n",
       "555          69        5.06      RU  2022-09-19 04:26:16  \n",
       "\n",
       "[556 rows x 10 columns]"
      ]
     },
     "execution_count": 15,
     "metadata": {},
     "output_type": "execute_result"
    }
   ],
   "source": [
    "city_data_df"
   ]
  },
  {
   "cell_type": "code",
   "execution_count": 16,
   "id": "f7ff8117",
   "metadata": {},
   "outputs": [
    {
     "data": {
      "text/plain": [
       "City_ID         int64\n",
       "City           object\n",
       "Lat           float64\n",
       "Lng           float64\n",
       "Max Temp      float64\n",
       "Humidity        int64\n",
       "Cloudiness      int64\n",
       "Wind Speed    float64\n",
       "Country        object\n",
       "Date           object\n",
       "dtype: object"
      ]
     },
     "execution_count": 16,
     "metadata": {},
     "output_type": "execute_result"
    }
   ],
   "source": [
    "city_data_df.dtypes"
   ]
  },
  {
   "cell_type": "code",
   "execution_count": 17,
   "id": "931a3cbf",
   "metadata": {},
   "outputs": [],
   "source": [
    "# Configure gmaps to use your Google API key.\n",
    "gmaps.configure(api_key=g_key)"
   ]
  },
  {
   "cell_type": "code",
   "execution_count": 13,
   "id": "efcc8f5b",
   "metadata": {
    "scrolled": true
   },
   "outputs": [
    {
     "data": {
      "application/vnd.jupyter.widget-view+json": {
       "model_id": "6e43edaff9364584b61d7e08aa6d2402",
       "version_major": 2,
       "version_minor": 0
      },
      "text/plain": [
       "Figure(layout=FigureLayout(height='420px'))"
      ]
     },
     "metadata": {},
     "output_type": "display_data"
    }
   ],
   "source": [
    "# Heatmap of temperature\n",
    "# Get the latitude and longitude.\n",
    "locations = city_data_df[[\"Lat\", \"Lng\"]]\n",
    "# Get the maximum temperature.\n",
    "humidity = city_data_df[\"Humidity\"]\n",
    "# Assign the figure variable.\n",
    "fig = gmaps.figure()\n",
    "# Assign the heatmap variable.\n",
    "heat_layer = gmaps.heatmap_layer(locations, weights=humidity)\n",
    "# Add the heatmap layer.\n",
    "fig.add_layer(heat_layer)\n",
    "# Call the figure to plot the data.\n",
    "fig"
   ]
  },
  {
   "cell_type": "code",
   "execution_count": 14,
   "id": "060e1940",
   "metadata": {},
   "outputs": [],
   "source": [
    "#fig = gmaps.figure(center=(30.0, 31.0), zoom_level=1.5)"
   ]
  },
  {
   "cell_type": "code",
   "execution_count": 29,
   "id": "72bdca6c",
   "metadata": {},
   "outputs": [
    {
     "data": {
      "application/vnd.jupyter.widget-view+json": {
       "model_id": "5650bd35e7ef455ead71e485d761a98f",
       "version_major": 2,
       "version_minor": 0
      },
      "text/plain": [
       "Figure(layout=FigureLayout(height='420px'))"
      ]
     },
     "metadata": {},
     "output_type": "display_data"
    }
   ],
   "source": [
    "# Heatmap of percent humidity\n",
    "locations = city_data_df[[\"Lat\", \"Lng\"]]\n",
    "humidity = city_data_df[\"Humidity\"]\n",
    "fig = gmaps.figure(center=(32.77, -96.80), zoom_level=5.3)\n",
    "heat_layer = gmaps.heatmap_layer(locations, weights=humidity, dissipating=False, max_intensity=75, point_radius=4)\n",
    "\n",
    "fig.add_layer(heat_layer)\n",
    "# Call the figure to plot the data.\n",
    "fig"
   ]
  },
  {
   "cell_type": "code",
   "execution_count": 37,
   "id": "91c5f0f0",
   "metadata": {
    "scrolled": true
   },
   "outputs": [
    {
     "data": {
      "application/vnd.jupyter.widget-view+json": {
       "model_id": "dd326690828c4578b96a1cf380330b6e",
       "version_major": 2,
       "version_minor": 0
      },
      "text/plain": [
       "Figure(layout=FigureLayout(height='420px'))"
      ]
     },
     "metadata": {},
     "output_type": "display_data"
    }
   ],
   "source": [
    "# Heatmap of percent \n",
    "locations = city_data_df[[\"Lat\", \"Lng\"]]\n",
    "wind = city_data_df[\"Wind Speed\"]\n",
    "fig = gmaps.figure(center=(32.00, -96.90), zoom_level=5.3)\n",
    "heat_layer = gmaps.heatmap_layer(locations, weights=wind, dissipating=False, max_intensity=50, point_radius=4)\n",
    "\n",
    "fig.add_layer(heat_layer)\n",
    "# Call the figure to plot the data.\n",
    "fig"
   ]
  },
  {
   "cell_type": "code",
   "execution_count": null,
   "id": "94ce1de0",
   "metadata": {},
   "outputs": [],
   "source": []
  },
  {
   "cell_type": "code",
   "execution_count": null,
   "id": "e3bf3488",
   "metadata": {},
   "outputs": [],
   "source": []
  },
  {
   "cell_type": "markdown",
   "id": "3bce9956",
   "metadata": {},
   "source": [
    "#### https://jupyter-gmaps.readthedocs.io/en/latest/tutorial.html\n",
    "\n",
    "To demonstrate gmaps, let’s plot the earthquake dataset, included in the package:"
   ]
  },
  {
   "cell_type": "code",
   "execution_count": 93,
   "id": "87e814d0",
   "metadata": {},
   "outputs": [
    {
     "data": {
      "text/plain": [
       "<bound method NDFrame.head of        latitude   longitude  magnitude\n",
       "0     65.193300 -149.072500       1.70\n",
       "1     38.791832 -122.780830       2.10\n",
       "2     38.818001 -122.792168       0.48\n",
       "3     33.601667 -116.727667       0.78\n",
       "4     37.378334 -118.520836       3.64\n",
       "...         ...         ...        ...\n",
       "8599  19.331500 -155.182200       0.80\n",
       "8600  41.819700 -119.622400       2.20\n",
       "8601  38.771999 -122.720497       1.91\n",
       "8602  34.608333 -118.641333       1.93\n",
       "8603  41.905500 -119.625000       4.21\n",
       "\n",
       "[8604 rows x 3 columns]>"
      ]
     },
     "execution_count": 93,
     "metadata": {},
     "output_type": "execute_result"
    }
   ],
   "source": [
    "import gmaps\n",
    "import gmaps.datasets\n",
    "\n",
    "earthquake_df = gmaps.datasets.load_dataset_as_df('earthquakes')\n",
    "earthquake_df.head                             "
   ]
  },
  {
   "cell_type": "code",
   "execution_count": 64,
   "id": "d6e64bdd",
   "metadata": {
    "scrolled": true
   },
   "outputs": [
    {
     "data": {
      "application/vnd.jupyter.widget-view+json": {
       "model_id": "a52bc0b95fa44227912862b7751cd67e",
       "version_major": 2,
       "version_minor": 0
      },
      "text/plain": [
       "Figure(layout=FigureLayout(height='420px'))"
      ]
     },
     "metadata": {},
     "output_type": "display_data"
    }
   ],
   "source": [
    "# plot\n",
    "locations = earthquake_df[['latitude', 'longitude']]\n",
    "weights = earthquake_df['magnitude']\n",
    "fig = gmaps.figure(map_type='SATELLITE')\n",
    "fig.add_layer(gmaps.heatmap_layer(locations, weights=weights, point_radius=14))\n",
    "#heatmap_layer = gmaps.heatmap_layer(locations, weights=weights)\n",
    "#heatmap_layer.point_radius = 20\n",
    "fig"
   ]
  },
  {
   "cell_type": "markdown",
   "id": "dc9c6e3f",
   "metadata": {},
   "source": [
    "#### Freedom from outcome. Intent."
   ]
  },
  {
   "cell_type": "code",
   "execution_count": null,
   "id": "96383f78",
   "metadata": {},
   "outputs": [],
   "source": [
    "import gmaps.geojson_geometries"
   ]
  },
  {
   "cell_type": "code",
   "execution_count": 19,
   "id": "6aeeff13",
   "metadata": {},
   "outputs": [
    {
     "data": {
      "application/vnd.jupyter.widget-view+json": {
       "model_id": "34bfd6cbd461408597e6d3d810052ae3",
       "version_major": 2,
       "version_minor": 0
      },
      "text/plain": [
       "Figure(layout=FigureLayout(height='420px'))"
      ]
     },
     "metadata": {},
     "output_type": "display_data"
    }
   ],
   "source": [
    "# a base map\n",
    "#gmaps.figure()\n",
    "wooster_coordinates = (40.79, -81.93)\n",
    "#fig = gmaps.figure(map_type='SATELLITE')\n",
    "\n",
    "gmaps.figure(center=wooster_coordinates, zoom_level=12)\n",
    "\n",
    "figure_layout = {\n",
    "    'width': '500px',\n",
    "    'height': '300px',\n",
    "    'border': '1px solid black',\n",
    "}\n",
    "\n",
    "gmaps.figure(center=wooster_coordinates, map_type='TERRAIN', zoom_level=12)\n",
    "#map_type'TERRAIN'\n",
    "#map_type='SATELLITE'\n",
    "\n",
    "#countries_geojson = gmaps.geojson_geometries.load_geometry('countries')\n",
    "\n",
    "gini_layer = gmaps.geojson_layer(countries_geojson)\n",
    "fig.add_layer(gini_layer)\n",
    "fig"
   ]
  },
  {
   "cell_type": "code",
   "execution_count": 18,
   "id": "693e0f30",
   "metadata": {},
   "outputs": [
    {
     "data": {
      "application/vnd.jupyter.widget-view+json": {
       "model_id": "34bfd6cbd461408597e6d3d810052ae3",
       "version_major": 2,
       "version_minor": 0
      },
      "text/plain": [
       "Figure(layout=FigureLayout(height='420px'))"
      ]
     },
     "metadata": {},
     "output_type": "display_data"
    }
   ],
   "source": [
    "import gmaps\n",
    "import gmaps.geojson_geometries\n",
    "\n",
    "#countries_geojson = gmaps.geojson_geometries.load_geometry('countries')\n",
    "\n",
    "gini_layer = gmaps.geojson_layer(countries_geojson)\n",
    "fig.add_layer(gini_layer)\n",
    "fig"
   ]
  },
  {
   "cell_type": "code",
   "execution_count": null,
   "id": "aedbb470",
   "metadata": {},
   "outputs": [],
   "source": [
    "# SHORTCUTS!\n",
    "# cmd / for comment in cell\n",
    "# esc H for shortcut menu\n",
    "# esc A/B for new line Above/Below.\n"
   ]
  },
  {
   "cell_type": "code",
   "execution_count": null,
   "id": "c661b33c",
   "metadata": {},
   "outputs": [],
   "source": []
  },
  {
   "cell_type": "code",
   "execution_count": null,
   "id": "1b02ab88",
   "metadata": {},
   "outputs": [],
   "source": [
    "import pandas as pd\n",
    "music = pd.read_csv('filename.csv')"
   ]
  },
  {
   "cell_type": "code",
   "execution_count": null,
   "id": "c29643a1",
   "metadata": {},
   "outputs": [],
   "source": []
  },
  {
   "cell_type": "code",
   "execution_count": null,
   "id": "04585414",
   "metadata": {},
   "outputs": [],
   "source": []
  },
  {
   "cell_type": "code",
   "execution_count": null,
   "id": "18e02503",
   "metadata": {},
   "outputs": [],
   "source": [
    "åAåh"
   ]
  }
 ],
 "metadata": {
  "kernelspec": {
   "display_name": "Python 3 (ipykernel)",
   "language": "python",
   "name": "python3"
  },
  "language_info": {
   "codemirror_mode": {
    "name": "ipython",
    "version": 3
   },
   "file_extension": ".py",
   "mimetype": "text/x-python",
   "name": "python",
   "nbconvert_exporter": "python",
   "pygments_lexer": "ipython3",
   "version": "3.9.12"
  }
 },
 "nbformat": 4,
 "nbformat_minor": 5
}
