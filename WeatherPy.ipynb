{
 "cells": [
  {
   "cell_type": "code",
   "execution_count": 1,
   "id": "c31ef2d0",
   "metadata": {},
   "outputs": [],
   "source": [
    "# create lat and lng combinations\n",
    "# import dependencies Module 6\n",
    "import pandas as pd\n",
    "import matplotlib.pyplot as plt\n",
    "import numpy as np"
   ]
  },
  {
   "cell_type": "code",
   "execution_count": 2,
   "id": "39e62432",
   "metadata": {},
   "outputs": [
    {
     "data": {
      "text/plain": [
       "<zip at 0x7fbe99aaa480>"
      ]
     },
     "execution_count": 2,
     "metadata": {},
     "output_type": "execute_result"
    }
   ],
   "source": [
    "# create a set of random lat and lng combinations.\n",
    "lats = np.random.uniform(low=-90.000, high=90.000, size=1500)\n",
    "lngs = np.random.uniform(low=-180.000, high=180.000, size=1500)\n",
    "lat_lngs = zip(lats, lngs) # zip packs each lat/lng with same index into a tuple.\n",
    "lat_lngs\n",
    "# this output is a zip object in memory"
   ]
  },
  {
   "cell_type": "code",
   "execution_count": 3,
   "id": "600b22bb",
   "metadata": {},
   "outputs": [],
   "source": [
    "# API_practice\n",
    "# create a practice set of random lat/lng combos.\n",
    "lats = [25.129, 25.920, 26.625, 59.989, 37.305]\n",
    "lngs = [-67.597, 11.095, 74.842, -76.891, -61.133]\n",
    "lat_lngs = zip(lats, lngs)\n"
   ]
  },
  {
   "cell_type": "code",
   "execution_count": 4,
   "id": "75e622a2",
   "metadata": {},
   "outputs": [],
   "source": [
    "# add the lat/lngs to a list\n",
    "coordinates = list(lat_lngs)\n"
   ]
  },
  {
   "cell_type": "code",
   "execution_count": 5,
   "id": "c4127441",
   "metadata": {},
   "outputs": [
    {
     "name": "stdout",
     "output_type": "stream",
     "text": [
      "25.129 -67.597\n",
      "25.92 11.095\n",
      "26.625 74.842\n",
      "59.989 -76.891\n",
      "37.305 -61.133\n"
     ]
    }
   ],
   "source": [
    "# unzip the lat/lngs into the coordinaces list before this step!\n",
    "# use print func to display the lat/long combos\n",
    "for coordinate in coordinates:\n",
    "    print(coordinate[0], coordinate[1]) # outputs ordered pairs of lat/lng coordinates."
   ]
  },
  {
   "cell_type": "markdown",
   "id": "d224b871",
   "metadata": {},
   "source": [
    "#### Now we have ordered pairs of lat/lng in a list.  We can iterate thru the list of tuples to find the nearest city to those coordinates."
   ]
  },
  {
   "cell_type": "code",
   "execution_count": 6,
   "id": "1afea113",
   "metadata": {},
   "outputs": [],
   "source": [
    "# 6.1.5 Generate random world cities\n",
    "from citipy import citipy"
   ]
  },
  {
   "cell_type": "markdown",
   "id": "9c6301b7",
   "metadata": {},
   "source": [
    "#### create a for loop that will iterate thru the coordiantes unzipped tuple.\n",
    "#### uses the 5 pairs of lat/lng we used from zip practice to get a city and country code from the citipy module.\n"
   ]
  },
  {
   "cell_type": "code",
   "execution_count": 9,
   "id": "2b9f6a9f",
   "metadata": {},
   "outputs": [
    {
     "name": "stdout",
     "output_type": "stream",
     "text": [
      "cockburn town tc\n",
      "gat ly\n",
      "parvatsar in\n",
      "attawapiskat ca\n",
      "saint george bm\n"
     ]
    }
   ],
   "source": [
    "# use print function to display the lat/lng combos\n",
    "for coordinate in coordinates:\n",
    "    print(citipy.nearest_city(coordinate[0], coordinate[1]).city_name, # chain city_name to nearest_city() func.\n",
    "          citipy.nearest_city(coordinate[0], coordinate[1]).country_code) # to print country, chain country_code # to nearest city() func."
   ]
  },
  {
   "cell_type": "code",
   "execution_count": 12,
   "id": "fe1ee52f",
   "metadata": {},
   "outputs": [
    {
     "data": {
      "text/plain": [
       "5"
      ]
     },
     "execution_count": 12,
     "metadata": {},
     "output_type": "execute_result"
    }
   ],
   "source": [
    "# create a list for holding the cities.\n",
    "cities = [] # create cities list to store the city names\n",
    "# Identify the nearest city for each lat/lng combo.\n",
    "for coordinate in coordinates:\n",
    "    city = citipy.nearest_city(coordinate[0], coordinate[1]).city_name\n",
    "    \n",
    "     # if the city is unique, then we will add it to the cities list.\n",
    "    if city not in cities: # a decision stmnt with logical op 'not in' to determine whether found city is already in cities list.\n",
    "        cities.append(city) # If not in list, append func to add it.\n",
    "# print the city count to confirm sufficient count.\n",
    "len(cities)\n"
   ]
  },
  {
   "cell_type": "code",
   "execution_count": 17,
   "id": "1bde771d",
   "metadata": {},
   "outputs": [
    {
     "ename": "TypeError",
     "evalue": "'str' object is not callable",
     "output_type": "error",
     "traceback": [
      "\u001b[0;31m---------------------------------------------------------------------------\u001b[0m",
      "\u001b[0;31mTypeError\u001b[0m                                 Traceback (most recent call last)",
      "Input \u001b[0;32mIn [17]\u001b[0m, in \u001b[0;36m<cell line: 1>\u001b[0;34m()\u001b[0m\n\u001b[0;32m----> 1\u001b[0m \u001b[43mcity\u001b[49m\u001b[43m(\u001b[49m\u001b[43m)\u001b[49m\n",
      "\u001b[0;31mTypeError\u001b[0m: 'str' object is not callable"
     ]
    }
   ],
   "source": [
    "city()"
   ]
  },
  {
   "cell_type": "code",
   "execution_count": null,
   "id": "8e63b501",
   "metadata": {},
   "outputs": [],
   "source": []
  },
  {
   "cell_type": "code",
   "execution_count": null,
   "id": "26cf67e6",
   "metadata": {},
   "outputs": [],
   "source": []
  },
  {
   "cell_type": "code",
   "execution_count": null,
   "id": "6ef8b9ca",
   "metadata": {},
   "outputs": [],
   "source": []
  },
  {
   "cell_type": "code",
   "execution_count": null,
   "id": "057c4432",
   "metadata": {},
   "outputs": [],
   "source": []
  }
 ],
 "metadata": {
  "kernelspec": {
   "display_name": "Python 3 (ipykernel)",
   "language": "python",
   "name": "python3"
  },
  "language_info": {
   "codemirror_mode": {
    "name": "ipython",
    "version": 3
   },
   "file_extension": ".py",
   "mimetype": "text/x-python",
   "name": "python",
   "nbconvert_exporter": "python",
   "pygments_lexer": "ipython3",
   "version": "3.9.12"
  }
 },
 "nbformat": 4,
 "nbformat_minor": 5
}
